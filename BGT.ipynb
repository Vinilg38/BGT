{
  "cells": [
    {
      "cell_type": "code",
      "execution_count": null,
      "metadata": {
        "colab": {
          "background_save": true,
          "base_uri": "https://localhost:8080/"
        },
        "id": "g-Gx7blAgQp4",
        "outputId": "d281fc7f-5f45-4e34-f8ed-80be367b4b7b"
      },
      "outputs": [
        {
          "name": "stdout",
          "output_type": "stream",
          "text": [
            "Welcome to the chatbot! Type 'exit' to exit.\n",
            "Chatbot: He who sees the Supreme Lord equally present everywhere does not degrade himself by his behavior. It is important to take responsibility for your actions and seek forgiveness.\n",
            "Chatbot: My dear friend, know that the future is always uncertain, but that every moment is an opportunity for growth and change. Stay focused on the present moment and avoid dwelling on past mistakes or future worries. Set achievable goals for yourself and work diligently towards them every day. Seek guidance from wise teachers and mentors, and surround yourself with positive influences. Remember that with faith and effort, anything is possible.\n",
            "Chatbot: My child, know that financial troubles are a common part of the human experience, but that there are steps you can take to avoid ruin. Take stock of your financial situation and create a budget that allows for necessary expenses and savings. Avoid unnecessary expenses and seek out opportunities for additional income. Seek guidance from wise teachers and mentors who can provide you with the tools to manage your finances wisely. Remember that with discipline and effort, you can overcome any financial challenge.\n",
            "Chatbot: Bhagavad Gita teaches us that the ultimate goal of life is to achieve spiritual enlightenment and liberation from the cycle of birth and death.\n",
            "Chatbot: \"As they surrender unto Me, I reward them accordingly. Everyone follows My path in all respects, O son of Prtha.\"\n",
            "Chatbot: My dear friend, forgiveness is a powerful tool for healing and moving forward. It is important to recognize that holding onto anger and resentment will only continue to harm you. Try to understand the other person's perspective and consider the possibility of forgiveness. Remember that forgiveness does not mean condoning the other person's actions, but rather releasing the negative emotions that are holding you back. Seek guidance and support from those you trust, and have faith in the power of forgiveness to bring peace and healing.\n"
          ]
        }
      ],
      "source": [
        "import pandas as pd\n",
        "import numpy as np\n",
        "from sklearn.feature_extraction.text import TfidfVectorizer\n",
        "from sklearn.metrics.pairwise import cosine_similarity\n",
        "\n",
        "# Load the CSV file\n",
        "df = pd.read_csv(\"/content/drive/MyDrive/Datasets/bgt - Sheet1 (1).csv\")\n",
        "\n",
        "# Define the TF-IDF vectorizer\n",
        "vectorizer = TfidfVectorizer()\n",
        "\n",
        "# Compute the TF-IDF matrix\n",
        "tfidf_matrix = vectorizer.fit_transform(df['Prompt'].values.astype('U'))\n",
        "\n",
        "# Define the chat function\n",
        "import re\n",
        "\n",
        "# Define regular expressions to match variations of \"kill\", \"murder\", and \"homicide\"\n",
        "kill_regex = re.compile(r\"\\b(kill(?:s|ed|ing)?)\\b\", re.IGNORECASE)\n",
        "murder_regex = re.compile(r\"\\b(murder(?:s|ed|ing)?)\\b\", re.IGNORECASE)\n",
        "homicide_regex = re.compile(r\"\\b(homicide(?:s|d)?)\\b\", re.IGNORECASE)   \n",
        "regex_appearance = re.compile(r'\\b(fat|ugly|beauty|weight|look)\\b', re.IGNORECASE)\n",
        "suicide_regex = re.compile(r'\\bsuicid(e|al|e\\s*thoughts?)\\b', re.IGNORECASE)\n",
        "work_regex = re.compile(r'\\b(work|working|job|career|lazy|laziness|study|studying|studious)\\b', re.IGNORECASE)\n",
        "gender_regex = re.compile(r'\\b(gay|lesbian|bisexual|transgender|queer|LGBTQ)\\b', re.IGNORECASE)\n",
        "\n",
        "\n",
        "# Define the chat function\n",
        "def chat():\n",
        "    print(\"Welcome to the chatbot! Type 'exit' to exit.\")\n",
        "    while True:\n",
        "        # Get user input\n",
        "        user_input = input(\"You: \")\n",
        "\n",
        "        # Exit the loop if the user types 'exit'\n",
        "        if user_input.lower() == 'exit':\n",
        "            print(\"Chatbot: Goodbye!\")\n",
        "            break\n",
        "        \n",
        "        # Check if the user input matches any of the regular expressions\n",
        "        elif kill_regex.search(user_input):\n",
        "            # Respond with the pre-defined response for \"kill\"\n",
        "            print(\"Chatbot: He who sees the Supreme Lord equally present everywhere does not degrade himself by his behavior. It is important to take responsibility for your actions and seek forgiveness.\")\n",
        "        \n",
        "        elif 'lottery' in user_input or 'money' in user_input or 'rich' in user_input or 'poor' in user_input:\n",
        "            # Respond with the suggested quote about focusing on inner peace and spiritual practices\n",
        "            print(\"Chatbot: Rather than seeking external rewards, the Gita suggests to focus on cultivating inner peace and contentment through spiritual practices such as meditation, self-reflection, and service to others.\")\n",
        "            \n",
        "        elif suicide_regex.search(user_input):\n",
        "            # Respond with the suggested quote about devotion and knowledge\n",
        "            print(\"Chatbot: Don't lose hope.For those who are constantly devoted and worship Me with love, I give the understanding by which they can come to Me. Out of compassion for them, I destroy the darkness born of ignorance with the shining lamp of knowledge.\")\n",
        "            \n",
        "        elif murder_regex.search(user_input):\n",
        "            # Respond with the pre-defined response for \"murder\"\n",
        "            print(\"Chatbot: Violence is never the answer. It is important to seek help and support if you are struggling with anger or other difficult emotions.\")\n",
        "            \n",
        "        elif homicide_regex.search(user_input):\n",
        "            # Respond with the pre-defined response for \"homicide\"\n",
        "            print(\"Chatbot: Taking someone else's life is a serious crime. It is important to take responsibility for your actions and seek forgiveness.\")\n",
        "        elif regex_appearance.search(user_input):\n",
        "          print(\"Chatbot:As the ignorant act with attachment to the body, so the wise should act without attachment, for the sake of the body.\")\n",
        "             \n",
        "        elif work_regex.search(user_input):\n",
        "            # Respond with the pre-defined response for \"homicide\"\n",
        "            print(\"Chatbot: You have a right to perform your prescribed duty, but you are not entitled to the fruits of action. Never consider yourself the cause of the results of your activities, and never be attached to not doing your duty.\")\n",
        "        elif gender_regex.search(user_input):\n",
        "            # Respond with the pre-defined response for \"homicide\"\n",
        "            print(\"Chatbot: Any labels that we use to define ourselves are ultimately meaningless. What is important is to live in a way that is in alignment with our true nature, and to act from a place of love and compassion.\")\n",
        "        else:\n",
        "            # Compute the TF-IDF vector of the user input\n",
        "            user_tfidf = vectorizer.transform([user_input])\n",
        "\n",
        "            # Compute the cosine similarity between the user input and the prompts\n",
        "            cosine_similarities = cosine_similarity(user_tfidf, tfidf_matrix)\n",
        "\n",
        "            # Get the index of the most similar prompt\n",
        "            max_index = np.argmax(cosine_similarities)\n",
        "\n",
        "            # Get the corresponding response\n",
        "            response = df.iloc[max_index]['Response']\n",
        "\n",
        "            # Print the response\n",
        "            print(\"Chatbot:\", response)\n",
        "\n",
        "\n",
        "\n",
        "# Call the chat function to start the chatbot\n",
        "chat()"
      ]
    },
    {
      "cell_type": "code",
      "execution_count": null,
      "metadata": {
        "colab": {
          "base_uri": "https://localhost:8080/"
        },
        "id": "M1inA4Anl4pp",
        "outputId": "af6c3e34-134e-4e5e-cce4-0e4690e4aa1a"
      },
      "outputs": [
        {
          "name": "stdout",
          "output_type": "stream",
          "text": [
            "Index(['Prompt', 'Response'], dtype='object')\n"
          ]
        }
      ],
      "source": [
        "conversation_df = pd.read_csv(\"/content/drive/MyDrive/bgt - Sheet1.csv\")\n",
        "print(conversation_df.columns)"
      ]
    }
  ],
  "metadata": {
    "colab": {
      "provenance": []
    },
    "kernelspec": {
      "display_name": "Python 3",
      "name": "python3"
    },
    "language_info": {
      "name": "python"
    }
  },
  "nbformat": 4,
  "nbformat_minor": 0
}